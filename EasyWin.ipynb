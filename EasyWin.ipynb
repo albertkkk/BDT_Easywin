{
 "cells": [
  {
   "cell_type": "markdown",
   "metadata": {},
   "source": [
    "## Group -- Easy Win"
   ]
  },
  {
   "cell_type": "code",
   "execution_count": 22,
   "metadata": {},
   "outputs": [],
   "source": [
    "import pandas as pd"
   ]
  },
  {
   "cell_type": "code",
   "execution_count": 23,
   "metadata": {},
   "outputs": [
    {
     "name": "stderr",
     "output_type": "stream",
     "text": [
      "C:\\Users\\hzysg\\AppData\\Local\\Temp\\ipykernel_24108\\792919034.py:3: DtypeWarning: Columns (12,13) have mixed types. Specify dtype option on import or set low_memory=False.\n",
      "  student_data = pd.read_csv(\"student_data.csv\")\n"
     ]
    }
   ],
   "source": [
    "## load data\n",
    "\n",
    "student_data = pd.read_csv(\"student_data.csv\")\n",
    "session_info = pd.read_csv(\"session_info.csv\")"
   ]
  },
  {
   "cell_type": "code",
   "execution_count": 24,
   "metadata": {},
   "outputs": [],
   "source": [
    "student_data['x'] = student_data['x'].interpolate()\n",
    "student_data['y'] = student_data['y'].interpolate()\n",
    "student_data['z'] = student_data['z'].interpolate()\n",
    "\n",
    "student_data.to_csv(\"test.csv\")"
   ]
  },
  {
   "cell_type": "code",
   "execution_count": null,
   "metadata": {},
   "outputs": [],
   "source": [
    "啊哈哈哈哈"
   ]
  }
 ],
 "metadata": {
  "kernelspec": {
   "display_name": "base",
   "language": "python",
   "name": "python3"
  },
  "language_info": {
   "codemirror_mode": {
    "name": "ipython",
    "version": 3
   },
   "file_extension": ".py",
   "mimetype": "text/x-python",
   "name": "python",
   "nbconvert_exporter": "python",
   "pygments_lexer": "ipython3",
   "version": "3.10.9"
  }
 },
 "nbformat": 4,
 "nbformat_minor": 2
}
