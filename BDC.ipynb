{
 "cells": [
  {
   "cell_type": "code",
   "execution_count": 1,
   "metadata": {},
   "outputs": [
    {
     "name": "stdout",
     "output_type": "stream",
     "text": [
      "(8824678, 14)\n",
      "   sessionId  timestamp      x      y       z   ppgValue  hr  hrIbi  hrStatus  \\\n",
      "0          1          8  653.0  195.0  4324.0  1917829.0 NaN    NaN       NaN   \n",
      "1          1         50  659.0  198.0  4096.0  1917495.0 NaN    NaN       NaN   \n",
      "2          1         89  645.0  149.0  4054.0  1917365.0 NaN    NaN       NaN   \n",
      "3          1        128  752.0  213.0  4090.0  1918146.0 NaN    NaN       NaN   \n",
      "4          1        169  652.0  232.0  4088.0  1919319.0 NaN    NaN       NaN   \n",
      "\n",
      "   ibiStatus  notification  engagement affect context  \n",
      "0        NaN           NaN         NaN    NaN     NaN  \n",
      "1        NaN           NaN         NaN    NaN     NaN  \n",
      "2        NaN           NaN         NaN    NaN     NaN  \n",
      "3        NaN           NaN         NaN    NaN     NaN  \n",
      "4        NaN           NaN         NaN    NaN     NaN  \n",
      "sessionId             0\n",
      "timestamp             0\n",
      "x                338892\n",
      "y                338892\n",
      "z                338892\n",
      "ppgValue         338892\n",
      "hr              8487003\n",
      "hrIbi           8487003\n",
      "hrStatus        8487003\n",
      "ibiStatus       8487003\n",
      "notification    8824306\n",
      "engagement      8824306\n",
      "affect          8824438\n",
      "context         8824445\n",
      "dtype: int64\n"
     ]
    }
   ],
   "source": [
    "import pandas as pd\n",
    "import numpy as np\n",
    "import matplotlib.pyplot as plt\n",
    "import seaborn as sns\n",
    "from sklearn.model_selection import train_test_split\n",
    "from sklearn.preprocessing import StandardScaler\n",
    "from sklearn.ensemble import RandomForestClassifier\n",
    "from sklearn.metrics import accuracy_score\n",
    "import warnings\n",
    "warnings.filterwarnings('ignore')\n",
    "\n",
    "\n",
    "student_data = r\"C:\\Users\\MK\\Desktop\\task\\task\\student_data.csv\"\n",
    "df_student = pd.read_csv(student_data)\n",
    "print(df_student.shape)\n",
    "print(df_student.head())\n",
    "print(df_student.isnull().sum())"
   ]
  },
  {
   "cell_type": "code",
   "execution_count": null,
   "metadata": {
    "collapsed": false
   },
   "outputs": [],
   "source": []
  },
  {
   "cell_type": "code",
   "execution_count": 2,
   "metadata": {},
   "outputs": [
    {
     "name": "stdout",
     "output_type": "stream",
     "text": [
      "hrStatus 列中 0 的数量: 2321\n",
      "hrStatus 列中 1 的数量: 195585\n"
     ]
    }
   ],
   "source": [
    "# 假设您的 DataFrame 变量名为 df\n",
    "hr_status_counts = df_student['hrStatus'].value_counts()\n",
    "\n",
    "# 显示 hrStatus 列中 0 和 1 的数量\n",
    "print(\"hrStatus 列中 0 的数量:\", hr_status_counts[0])\n",
    "print(\"hrStatus 列中 1 的数量:\", hr_status_counts[1])\n"
   ]
  },
  {
   "cell_type": "code",
   "execution_count": 3,
   "metadata": {},
   "outputs": [
    {
     "name": "stdout",
     "output_type": "stream",
     "text": [
      "(193, 4)\n",
      "   sessionId  timestamp  affect  context\n",
      "0          1    1652042    True    False\n",
      "1          1    1658301   False     True\n",
      "2          1    5914412    True    False\n",
      "3          1    5921368   False     True\n",
      "4          2     629724    True    False\n",
      "sessionId    0\n",
      "timestamp    0\n",
      "affect       0\n",
      "context      0\n",
      "dtype: int64\n"
     ]
    }
   ],
   "source": [
    "student_skeleton = r\"C:\\Users\\MK\\Desktop\\task\\task\\student_skeleton.csv\"\n",
    "df_student_skeleton = pd.read_csv(student_skeleton)\n",
    "print(df_student_skeleton.shape)\n",
    "print(df_student_skeleton.head())\n",
    "print(df_student_skeleton.isnull().sum())"
   ]
  },
  {
   "cell_type": "code",
   "execution_count": 4,
   "metadata": {},
   "outputs": [
    {
     "name": "stdout",
     "output_type": "stream",
     "text": [
      "(58, 6)\n",
      "   id  duration watchId    age  gender  fairNumber\n",
      "0   1   8021351    0Q3V  18-25  female           1\n",
      "1   2   3752526    0Q3V  26-30    male           1\n",
      "2   3   3989497    0QED  18-25    male           1\n",
      "3   4   4979198    0QED  18-25    male           1\n",
      "4   5   4836199    0QVM  18-25    male           1\n",
      "id            0\n",
      "duration      0\n",
      "watchId       0\n",
      "age           0\n",
      "gender        0\n",
      "fairNumber    0\n",
      "dtype: int64\n"
     ]
    }
   ],
   "source": [
    "session_info = r\"C:\\Users\\MK\\Desktop\\task\\task\\session_info.csv\"\n",
    "df_session_info = pd.read_csv(session_info)\n",
    "print(df_session_info.shape)\n",
    "print(df_session_info.head())\n",
    "print(df_session_info.isnull().sum())"
   ]
  },
  {
   "cell_type": "code",
   "execution_count": 5,
   "metadata": {},
   "outputs": [
    {
     "name": "stdout",
     "output_type": "stream",
     "text": [
      "0      1\n",
      "1      2\n",
      "2      3\n",
      "3      4\n",
      "4      5\n",
      "5      6\n",
      "6      7\n",
      "7      8\n",
      "8      9\n",
      "9     10\n",
      "10    11\n",
      "11    12\n",
      "12    13\n",
      "13    14\n",
      "14    15\n",
      "15    16\n",
      "16    17\n",
      "17    18\n",
      "18    19\n",
      "19    20\n",
      "20    21\n",
      "21    22\n",
      "22    23\n",
      "23    24\n",
      "24    25\n",
      "25    26\n",
      "26    27\n",
      "27    28\n",
      "28    29\n",
      "29    30\n",
      "30    31\n",
      "31    32\n",
      "32    33\n",
      "33    34\n",
      "34    35\n",
      "35    36\n",
      "36    37\n",
      "37    38\n",
      "38    39\n",
      "39    40\n",
      "40    41\n",
      "41    42\n",
      "42    43\n",
      "43    44\n",
      "44    45\n",
      "45    46\n",
      "46    47\n",
      "47    48\n",
      "48    49\n",
      "49    50\n",
      "50    51\n",
      "51    52\n",
      "52    53\n",
      "53    54\n",
      "54    55\n",
      "55    56\n",
      "56    57\n",
      "57    58\n",
      "Name: id, dtype: int64\n"
     ]
    }
   ],
   "source": [
    "# 假设您的 DataFrame 变量名为 df\n",
    "id_column = df_session_info['id']\n",
    "\n",
    "# 显示 id 列的数据\n",
    "print(id_column)\n"
   ]
  },
  {
   "cell_type": "code",
   "execution_count": 6,
   "metadata": {},
   "outputs": [
    {
     "data": {
      "text/plain": [
       "Index(['sessionId', 'timestamp', 'x', 'y', 'z', 'ppgValue', 'hr', 'hrIbi',\n",
       "       'hrStatus', 'ibiStatus', 'notification', 'engagement', 'affect',\n",
       "       'context'],\n",
       "      dtype='object')"
      ]
     },
     "execution_count": 6,
     "metadata": {},
     "output_type": "execute_result"
    }
   ],
   "source": [
    "col_names = df_student.columns\n",
    "col_names"
   ]
  },
  {
   "cell_type": "code",
   "execution_count": 7,
   "metadata": {},
   "outputs": [
    {
     "name": "stdout",
     "output_type": "stream",
     "text": [
      "affect 列的信息:\n",
      "HAPPY      114\n",
      "RELAXED    112\n",
      "SAD          9\n",
      "ANGRY        5\n",
      "Name: affect, dtype: int64\n",
      "context 列的信息:\n",
      "CONVERSATION    85\n",
      "OTHER           66\n",
      "WALKING         48\n",
      "VIEW_BOOTH      34\n",
      "Name: context, dtype: int64\n"
     ]
    }
   ],
   "source": [
    "affect_info = df_student[\"affect\"].value_counts()\n",
    "\n",
    "print(\"affect 列的信息:\")\n",
    "print(affect_info)\n",
    "\n",
    "context_info = df_student[\"context\"].value_counts()\n",
    "\n",
    "print(\"context 列的信息:\")\n",
    "print(context_info)"
   ]
  },
  {
   "cell_type": "code",
   "execution_count": 8,
   "metadata": {},
   "outputs": [
    {
     "name": "stdout",
     "output_type": "stream",
     "text": [
      "   sessionId  timestamp      x      y       z   ppgValue  hr  hrIbi  hrStatus  \\\n",
      "0          1          8  653.0  195.0  4324.0  1917829.0 NaN    NaN       NaN   \n",
      "1          1         50  659.0  198.0  4096.0  1917495.0 NaN    NaN       NaN   \n",
      "2          1         89  645.0  149.0  4054.0  1917365.0 NaN    NaN       NaN   \n",
      "3          1        128  752.0  213.0  4090.0  1918146.0 NaN    NaN       NaN   \n",
      "4          1        169  652.0  232.0  4088.0  1919319.0 NaN    NaN       NaN   \n",
      "\n",
      "   ibiStatus  notification  engagement  affect_ANGRY  affect_HAPPY  \\\n",
      "0        NaN           NaN         NaN             0             0   \n",
      "1        NaN           NaN         NaN             0             0   \n",
      "2        NaN           NaN         NaN             0             0   \n",
      "3        NaN           NaN         NaN             0             0   \n",
      "4        NaN           NaN         NaN             0             0   \n",
      "\n",
      "   affect_RELAXED  affect_SAD  context_CONVERSATION  context_OTHER  \\\n",
      "0               0           0                     0              0   \n",
      "1               0           0                     0              0   \n",
      "2               0           0                     0              0   \n",
      "3               0           0                     0              0   \n",
      "4               0           0                     0              0   \n",
      "\n",
      "   context_VIEW_BOOTH  context_WALKING  \n",
      "0                   0                0  \n",
      "1                   0                0  \n",
      "2                   0                0  \n",
      "3                   0                0  \n",
      "4                   0                0  \n"
     ]
    }
   ],
   "source": [
    "affect_dummies = pd.get_dummies(df_student['affect'], prefix='affect')\n",
    "\n",
    "# 对 context 列进行独热编码\n",
    "context_dummies = pd.get_dummies(df_student['context'], prefix='context')\n",
    "df_encoded = pd.concat([df_student, affect_dummies, context_dummies], axis=1)\n",
    "\n",
    "# 删除原始的 affect 和 context 列\n",
    "df_encoded.drop(['affect', 'context'], axis=1, inplace=True)\n",
    "\n",
    "# 显示编码后的数据\n",
    "print(df_encoded.head())"
   ]
  },
  {
   "cell_type": "code",
   "execution_count": 9,
   "metadata": {},
   "outputs": [],
   "source": [
    "df_student['x'] = df_student['x'].interpolate()\n",
    "df_student['y'] = df_student['y'].interpolate()\n",
    "df_student['z'] = df_student['z'].interpolate()\n",
    "df_student['ppgValue'] = df_student['ppgValue'].interpolate()\n",
    "111"
   ]
  }
 ],
 "metadata": {
  "kernelspec": {
   "display_name": "base",
   "language": "python",
   "name": "python3"
  },
  "language_info": {
   "codemirror_mode": {
    "name": "ipython",
    "version": 3
   },
   "file_extension": ".py",
   "mimetype": "text/x-python",
   "name": "python",
   "nbconvert_exporter": "python",
   "pygments_lexer": "ipython3",
   "version": "3.9.13"
  }
 },
 "nbformat": 4,
 "nbformat_minor": 2
}
