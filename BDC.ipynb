{
 "cells": [
  {
   "cell_type": "code",
   "execution_count": 17,
   "metadata": {},
   "outputs": [
    {
     "name": "stdout",
     "output_type": "stream",
     "text": [
      "(8824678, 14)\n",
      "   sessionId  timestamp      x      y       z   ppgValue  hr  hrIbi  hrStatus  \\\n",
      "0          1          8  653.0  195.0  4324.0  1917829.0 NaN    NaN       NaN   \n",
      "1          1         50  659.0  198.0  4096.0  1917495.0 NaN    NaN       NaN   \n",
      "2          1         89  645.0  149.0  4054.0  1917365.0 NaN    NaN       NaN   \n",
      "3          1        128  752.0  213.0  4090.0  1918146.0 NaN    NaN       NaN   \n",
      "4          1        169  652.0  232.0  4088.0  1919319.0 NaN    NaN       NaN   \n",
      "\n",
      "   ibiStatus  notification  engagement affect context  \n",
      "0        NaN           NaN         NaN    NaN     NaN  \n",
      "1        NaN           NaN         NaN    NaN     NaN  \n",
      "2        NaN           NaN         NaN    NaN     NaN  \n",
      "3        NaN           NaN         NaN    NaN     NaN  \n",
      "4        NaN           NaN         NaN    NaN     NaN  \n",
      "sessionId             0\n",
      "timestamp             0\n",
      "x                338892\n",
      "y                338892\n",
      "z                338892\n",
      "ppgValue         338892\n",
      "hr              8487003\n",
      "hrIbi           8487003\n",
      "hrStatus        8487003\n",
      "ibiStatus       8487003\n",
      "notification    8824306\n",
      "engagement      8824306\n",
      "affect          8824438\n",
      "context         8824445\n",
      "dtype: int64\n"
     ]
    }
   ],
   "source": [
    "import pandas as pd\n",
    "import numpy as np\n",
    "import matplotlib.pyplot as plt\n",
    "import seaborn as sns\n",
    "from sklearn.model_selection import train_test_split\n",
    "from sklearn.preprocessing import StandardScaler\n",
    "from sklearn.ensemble import RandomForestClassifier\n",
    "from sklearn.metrics import accuracy_score\n",
    "import warnings\n",
    "warnings.filterwarnings('ignore')\n",
    "\n",
    "\n",
    "student_data = r\"C:\\Users\\MK\\Desktop\\task\\task\\student_data.csv\"\n",
    "df_student = pd.read_csv(student_data)\n",
    "print(df_student.shape)\n",
    "print(df_student.head())\n",
    "print(df_student.isnull().sum())"
   ]
  },
  {
   "cell_type": "code",
   "execution_count": null,
   "outputs": [],
   "source": [],
   "metadata": {
    "collapsed": false
   }
  },
  {
   "cell_type": "code",
   "execution_count": 32,
   "metadata": {},
   "outputs": [
    {
     "name": "stdout",
     "output_type": "stream",
     "text": [
      "hrStatus 列中 0 的数量: 2321\n",
      "hrStatus 列中 1 的数量: 195585\n"
     ]
    }
   ],
   "source": [
    "# 假设您的 DataFrame 变量名为 df\n",
    "hr_status_counts = df_student['hrStatus'].value_counts()\n",
    "\n",
    "# 显示 hrStatus 列中 0 和 1 的数量\n",
    "print(\"hrStatus 列中 0 的数量:\", hr_status_counts[0])\n",
    "print(\"hrStatus 列中 1 的数量:\", hr_status_counts[1])\n"
   ]
  },
  {
   "cell_type": "code",
   "execution_count": null,
   "metadata": {},
   "outputs": [],
   "source": [
    "student_skeleton = r\"C:\\Users\\MK\\Desktop\\task\\task\\student_skeleton.csv\"\n",
    "df_student_skeleton = pd.read_csv(student_skeleton)\n",
    "print(df_student_skeleton.shape)\n",
    "print(df_student_skeleton.head())\n",
    "print(df_student_skeleton.isnull().sum())"
   ]
  },
  {
   "cell_type": "code",
   "execution_count": null,
   "metadata": {},
   "outputs": [],
   "source": [
    "session_info = r\"C:\\Users\\MK\\Desktop\\task\\task\\session_info.csv\"\n",
    "df_session_info = pd.read_csv(session_info)\n",
    "print(df_session_info.shape)\n",
    "print(df_session_info.head())\n",
    "print(df_session_info.isnull().sum())"
   ]
  },
  {
   "cell_type": "code",
   "execution_count": null,
   "metadata": {},
   "outputs": [],
   "source": [
    "# 假设您的 DataFrame 变量名为 df\n",
    "id_column = df_session_info['id']\n",
    "\n",
    "# 显示 id 列的数据\n",
    "print(id_column)\n"
   ]
  },
  {
   "cell_type": "code",
   "execution_count": null,
   "metadata": {},
   "outputs": [],
   "source": [
    "col_names = df_student.columns\n",
    "col_names"
   ]
  },
  {
   "cell_type": "code",
   "execution_count": null,
   "metadata": {},
   "outputs": [],
   "source": [
    "affect_info = df_student[\"affect\"].value_counts()\n",
    "\n",
    "print(\"affect 列的信息:\")\n",
    "print(affect_info)\n",
    "\n",
    "context_info = df_student[\"context\"].value_counts()\n",
    "\n",
    "print(\"context 列的信息:\")\n",
    "print(context_info)"
   ]
  },
  {
   "cell_type": "code",
   "execution_count": null,
   "metadata": {},
   "outputs": [],
   "source": [
    "affect_dummies = pd.get_dummies(df_student['affect'], prefix='affect')\n",
    "\n",
    "# 对 context 列进行独热编码\n",
    "context_dummies = pd.get_dummies(df_student['context'], prefix='context')\n",
    "df_encoded = pd.concat([df_student, affect_dummies, context_dummies], axis=1)\n",
    "\n",
    "# 删除原始的 affect 和 context 列\n",
    "df_encoded.drop(['affect', 'context'], axis=1, inplace=True)\n",
    "\n",
    "# 显示编码后的数据\n",
    "print(df_encoded.head())"
   ]
  },
  {
   "cell_type": "code",
   "execution_count": 35,
   "metadata": {},
   "outputs": [],
   "source": [
    "import numpy as np\n",
    "\n",
    "# 遍历 DataFrame 的行\n",
    "for i in range(len(df_student)):\n",
    "    # 检查当前行的 x、y 和 z 是否同时为 NaN\n",
    "    if pd.isna(df_student.at[i, 'x']) and pd.isna(df_student.at[i, 'y']) and pd.isna(df_student.at[i, 'z']):\n",
    "        # 取上一行和下一行的 x、y 和 z 列的值\n",
    "        prev_row = df_student.iloc[i - 1]\n",
    "        next_row = df_student.iloc[i + 1]\n",
    "        # 计算均值\n",
    "        mean_x = (prev_row['x'] + next_row['x']) / 2\n",
    "        mean_y = (prev_row['y'] + next_row['y']) / 2\n",
    "        mean_z = (prev_row['z'] + next_row['z']) / 2\n",
    "        # 将均值赋值给当前行的 x、y 和 z 列\n",
    "        df_student.at[i, 'x'] = mean_x\n",
    "        df_student.at[i, 'y'] = mean_y\n",
    "        df_student.at[i, 'z'] = mean_z\n",
    "\n"
   ]
  },
  {
   "cell_type": "code",
   "execution_count": 37,
   "metadata": {},
   "outputs": [
    {
     "name": "stdout",
     "output_type": "stream",
     "text": [
      "   sessionId  timestamp      x      y       z   ppgValue  hr  hrIbi  hrStatus  \\\n",
      "0          1          8  653.0  195.0  4324.0  1917829.0 NaN    NaN       NaN   \n",
      "1          1         50  659.0  198.0  4096.0  1917495.0 NaN    NaN       NaN   \n",
      "2          1         89  645.0  149.0  4054.0  1917365.0 NaN    NaN       NaN   \n",
      "3          1        128  752.0  213.0  4090.0  1918146.0 NaN    NaN       NaN   \n",
      "4          1        169  652.0  232.0  4088.0  1919319.0 NaN    NaN       NaN   \n",
      "\n",
      "   ibiStatus  notification  engagement affect context  \n",
      "0        NaN           NaN         NaN    NaN     NaN  \n",
      "1        NaN           NaN         NaN    NaN     NaN  \n",
      "2        NaN           NaN         NaN    NaN     NaN  \n",
      "3        NaN           NaN         NaN    NaN     NaN  \n",
      "4        NaN           NaN         NaN    NaN     NaN  \n",
      "sessionId             0\n",
      "timestamp             0\n",
      "x                   200\n",
      "y                   200\n",
      "z                   200\n",
      "ppgValue         338892\n",
      "hr              8487003\n",
      "hrIbi           8487003\n",
      "hrStatus        8487003\n",
      "ibiStatus       8487003\n",
      "notification    8824306\n",
      "engagement      8824306\n",
      "affect          8824438\n",
      "context         8824445\n",
      "dtype: int64\n"
     ]
    }
   ],
   "source": [
    "print(df_student.head())\n",
    "print(df_student.isnull().sum())"
   ]
  },
  {
   "cell_type": "code",
   "execution_count": 38,
   "metadata": {},
   "outputs": [],
   "source": [
    "import numpy as np\n",
    "\n",
    "# 遍历 DataFrame 的行\n",
    "for i in range(len(df_student)):\n",
    "    # 检查当前行的 x、y 和 z 是否同时为 NaN\n",
    "    if pd.isna(df_student.at[i, 'x']) and pd.isna(df_student.at[i, 'y']) and pd.isna(df_student.at[i, 'z']):\n",
    "        # 取上一行和下一行的 x、y 和 z 列的值\n",
    "        prev_row = df_student.iloc[i - 1]\n",
    "        next_row = df_student.iloc[i + 1]\n",
    "        # 计算均值\n",
    "        mean_x = (prev_row['x'] + next_row['x']) / 2\n",
    "        mean_y = (prev_row['y'] + next_row['y']) / 2\n",
    "        mean_z = (prev_row['z'] + next_row['z']) / 2\n",
    "        # 将均值赋值给当前行的 x、y 和 z 列\n",
    "        df_student.at[i, 'x'] = mean_x\n",
    "        df_student.at[i, 'y'] = mean_y\n",
    "        df_student.at[i, 'z'] = mean_z\n",
    "\n"
   ]
  },
  {
   "cell_type": "code",
   "execution_count": 39,
   "metadata": {},
   "outputs": [
    {
     "name": "stdout",
     "output_type": "stream",
     "text": [
      "   sessionId  timestamp      x      y       z   ppgValue  hr  hrIbi  hrStatus  \\\n",
      "0          1          8  653.0  195.0  4324.0  1917829.0 NaN    NaN       NaN   \n",
      "1          1         50  659.0  198.0  4096.0  1917495.0 NaN    NaN       NaN   \n",
      "2          1         89  645.0  149.0  4054.0  1917365.0 NaN    NaN       NaN   \n",
      "3          1        128  752.0  213.0  4090.0  1918146.0 NaN    NaN       NaN   \n",
      "4          1        169  652.0  232.0  4088.0  1919319.0 NaN    NaN       NaN   \n",
      "\n",
      "   ibiStatus  notification  engagement affect context  \n",
      "0        NaN           NaN         NaN    NaN     NaN  \n",
      "1        NaN           NaN         NaN    NaN     NaN  \n",
      "2        NaN           NaN         NaN    NaN     NaN  \n",
      "3        NaN           NaN         NaN    NaN     NaN  \n",
      "4        NaN           NaN         NaN    NaN     NaN  \n",
      "sessionId             0\n",
      "timestamp             0\n",
      "x                   200\n",
      "y                   200\n",
      "z                   200\n",
      "ppgValue         338892\n",
      "hr              8487003\n",
      "hrIbi           8487003\n",
      "hrStatus        8487003\n",
      "ibiStatus       8487003\n",
      "notification    8824306\n",
      "engagement      8824306\n",
      "affect          8824438\n",
      "context         8824445\n",
      "dtype: int64\n"
     ]
    }
   ],
   "source": [
    "print(df_student.head())\n",
    "print(df_student.isnull().sum())"
   ]
  }
 ],
 "metadata": {
  "kernelspec": {
   "display_name": "base",
   "language": "python",
   "name": "python3"
  },
  "language_info": {
   "codemirror_mode": {
    "name": "ipython",
    "version": 3
   },
   "file_extension": ".py",
   "mimetype": "text/x-python",
   "name": "python",
   "nbconvert_exporter": "python",
   "pygments_lexer": "ipython3",
   "version": "3.9.13"
  }
 },
 "nbformat": 4,
 "nbformat_minor": 2
}
