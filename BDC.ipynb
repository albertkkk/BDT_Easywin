{
 "cells": [
  {
   "cell_type": "code",
   "execution_count": 105,
   "metadata": {
    "ExecuteTime": {
     "end_time": "2024-03-30T17:23:00.530816Z",
     "start_time": "2024-03-30T17:22:52.204166Z"
    }
   },
   "outputs": [
    {
     "name": "stdout",
     "output_type": "stream",
     "text": [
      "(8824678, 14)\n",
      "   sessionId  timestamp      x      y       z   ppgValue  hr  hrIbi  hrStatus  \\\n",
      "0          1          8  653.0  195.0  4324.0  1917829.0 NaN    NaN       NaN   \n",
      "1          1         50  659.0  198.0  4096.0  1917495.0 NaN    NaN       NaN   \n",
      "2          1         89  645.0  149.0  4054.0  1917365.0 NaN    NaN       NaN   \n",
      "3          1        128  752.0  213.0  4090.0  1918146.0 NaN    NaN       NaN   \n",
      "4          1        169  652.0  232.0  4088.0  1919319.0 NaN    NaN       NaN   \n",
      "\n",
      "   ibiStatus  notification  engagement affect context  \n",
      "0        NaN           NaN         NaN    NaN     NaN  \n",
      "1        NaN           NaN         NaN    NaN     NaN  \n",
      "2        NaN           NaN         NaN    NaN     NaN  \n",
      "3        NaN           NaN         NaN    NaN     NaN  \n",
      "4        NaN           NaN         NaN    NaN     NaN  \n",
      "sessionId             0\n",
      "timestamp             0\n",
      "x                338892\n",
      "y                338892\n",
      "z                338892\n",
      "ppgValue         338892\n",
      "hr              8487003\n",
      "hrIbi           8487003\n",
      "hrStatus        8487003\n",
      "ibiStatus       8487003\n",
      "notification    8824306\n",
      "engagement      8824306\n",
      "affect          8824438\n",
      "context         8824445\n",
      "dtype: int64\n"
     ]
    }
   ],
   "source": [
    "import pandas as pd\n",
    "import numpy as np\n",
    "import matplotlib.pyplot as plt\n",
    "import seaborn as sns\n",
    "from sklearn.model_selection import train_test_split\n",
    "from sklearn.preprocessing import StandardScaler\n",
    "from sklearn.ensemble import RandomForestClassifier\n",
    "from sklearn.metrics import accuracy_score\n",
    "import warnings\n",
    "warnings.filterwarnings('ignore')\n",
    "\n",
    "student_data = r'/Users/algdc/Desktop/DDA 3020/task/student_data.csv'\n",
    "# student_data = r\"C:\\Users\\MK\\Desktop\\task\\task\\student_data.csv\"\n",
    "df_student = pd.read_csv(student_data)\n",
    "print(df_student.shape)\n",
    "print(df_student.head())\n",
    "print(df_student.isnull().sum())"
   ]
  },
  {
   "cell_type": "code",
   "execution_count": 105,
   "metadata": {
    "collapsed": false,
    "ExecuteTime": {
     "end_time": "2024-03-30T17:23:00.534452Z",
     "start_time": "2024-03-30T17:23:00.532357Z"
    }
   },
   "outputs": [],
   "source": []
  },
  {
   "cell_type": "code",
   "execution_count": 106,
   "metadata": {
    "ExecuteTime": {
     "end_time": "2024-03-30T17:23:00.556669Z",
     "start_time": "2024-03-30T17:23:00.552709Z"
    }
   },
   "outputs": [],
   "source": [
    "# 假设您的 DataFrame 变量名为 df\n",
    "hr_status_counts = df_student['hrStatus'].value_counts()\n",
    "\n",
    "# 显示 hrStatus 列中 0 和 1 的数量\n",
    "#print(\"hrStatus 列中 0 的数量:\", hr_status_counts[0])\n",
    "#print(\"hrStatus 列中 1 的数量:\", hr_status_counts[1])\n"
   ]
  },
  {
   "cell_type": "code",
   "execution_count": 107,
   "metadata": {
    "ExecuteTime": {
     "end_time": "2024-03-30T17:23:00.560618Z",
     "start_time": "2024-03-30T17:23:00.555431Z"
    }
   },
   "outputs": [],
   "source": [
    "# student_skeleton = r\"C:\\Users\\MK\\Desktop\\task\\task\\student_skeleton.csv\"\n",
    "# df_student_skeleton = pd.read_csv(student_skeleton)\n",
    "#print(df_student_skeleton.shape)\n",
    "#print(df_student_skeleton.head())\n",
    "#print(df_student_skeleton.isnull().sum())"
   ]
  },
  {
   "cell_type": "code",
   "execution_count": 108,
   "metadata": {
    "ExecuteTime": {
     "end_time": "2024-03-30T17:23:00.564633Z",
     "start_time": "2024-03-30T17:23:00.559229Z"
    }
   },
   "outputs": [],
   "source": [
    "# session_info = r\"C:\\Users\\MK\\Desktop\\task\\task\\session_info.csv\"\n",
    "# df_session_info = pd.read_csv(session_info)\n",
    "# print(df_session_info.shape)\n",
    "# print(df_session_info.head())\n",
    "# print(df_session_info.isnull().sum())"
   ]
  },
  {
   "cell_type": "code",
   "execution_count": 109,
   "metadata": {
    "ExecuteTime": {
     "end_time": "2024-03-30T17:23:00.565005Z",
     "start_time": "2024-03-30T17:23:00.562215Z"
    }
   },
   "outputs": [],
   "source": [
    "col_names = df_student.columns\n",
    "# col_names"
   ]
  },
  {
   "cell_type": "code",
   "execution_count": 110,
   "metadata": {
    "ExecuteTime": {
     "end_time": "2024-03-30T17:23:00.804024Z",
     "start_time": "2024-03-30T17:23:00.684276Z"
    }
   },
   "outputs": [
    {
     "name": "stdout",
     "output_type": "stream",
     "text": [
      "affect 列的信息:\n",
      "HAPPY      114\n",
      "RELAXED    112\n",
      "SAD          9\n",
      "ANGRY        5\n",
      "Name: affect, dtype: int64\n",
      "context 列的信息:\n",
      "CONVERSATION    85\n",
      "OTHER           66\n",
      "WALKING         48\n",
      "VIEW_BOOTH      34\n",
      "Name: context, dtype: int64\n"
     ]
    }
   ],
   "source": [
    "affect_info = df_student[\"affect\"].value_counts()\n",
    "\n",
    "print(\"affect 列的信息:\")\n",
    "print(affect_info)\n",
    "\n",
    "context_info = df_student[\"context\"].value_counts()\n",
    "\n",
    "print(\"context 列的信息:\")\n",
    "print(context_info)"
   ]
  },
  {
   "cell_type": "code",
   "execution_count": 111,
   "metadata": {
    "ExecuteTime": {
     "end_time": "2024-03-30T17:23:03.316383Z",
     "start_time": "2024-03-30T17:23:01.041354Z"
    }
   },
   "outputs": [
    {
     "name": "stdout",
     "output_type": "stream",
     "text": [
      "   sessionId  timestamp      x      y       z   ppgValue  hr  hrIbi  hrStatus  \\\n",
      "0          1          8  653.0  195.0  4324.0  1917829.0 NaN    NaN       NaN   \n",
      "1          1         50  659.0  198.0  4096.0  1917495.0 NaN    NaN       NaN   \n",
      "2          1         89  645.0  149.0  4054.0  1917365.0 NaN    NaN       NaN   \n",
      "3          1        128  752.0  213.0  4090.0  1918146.0 NaN    NaN       NaN   \n",
      "4          1        169  652.0  232.0  4088.0  1919319.0 NaN    NaN       NaN   \n",
      "\n",
      "   ibiStatus  notification  engagement  affect_ANGRY  affect_HAPPY  \\\n",
      "0        NaN           NaN         NaN             0             0   \n",
      "1        NaN           NaN         NaN             0             0   \n",
      "2        NaN           NaN         NaN             0             0   \n",
      "3        NaN           NaN         NaN             0             0   \n",
      "4        NaN           NaN         NaN             0             0   \n",
      "\n",
      "   affect_RELAXED  affect_SAD  context_CONVERSATION  context_OTHER  \\\n",
      "0               0           0                     0              0   \n",
      "1               0           0                     0              0   \n",
      "2               0           0                     0              0   \n",
      "3               0           0                     0              0   \n",
      "4               0           0                     0              0   \n",
      "\n",
      "   context_VIEW_BOOTH  context_WALKING  \n",
      "0                   0                0  \n",
      "1                   0                0  \n",
      "2                   0                0  \n",
      "3                   0                0  \n",
      "4                   0                0  \n"
     ]
    }
   ],
   "source": [
    "affect_dummies = pd.get_dummies(df_student['affect'], prefix='affect')\n",
    "\n",
    "# 对 context 列进行独热编码\n",
    "context_dummies = pd.get_dummies(df_student['context'], prefix='context')\n",
    "df_encoded = pd.concat([df_student, affect_dummies, context_dummies], axis=1)\n",
    "\n",
    "# 删除原始的 affect 和 context 列\n",
    "df_encoded.drop(['affect', 'context'], axis=1, inplace=True)\n",
    "\n",
    "# 显示编码后的数据\n",
    "print(df_encoded.head())"
   ]
  },
  {
   "cell_type": "code",
   "execution_count": 112,
   "metadata": {
    "ExecuteTime": {
     "end_time": "2024-03-30T17:23:05.075091Z",
     "start_time": "2024-03-30T17:23:03.317125Z"
    }
   },
   "outputs": [],
   "source": [
    "df_student['x'] = df_student['x'].interpolate()\n",
    "df_student['y'] = df_student['y'].interpolate()\n",
    "df_student['z'] = df_student['z'].interpolate()\n",
    "df_student['ppgValue'] = df_student['ppgValue'].interpolate()"
   ]
  },
  {
   "cell_type": "code",
   "execution_count": 113,
   "metadata": {
    "ExecuteTime": {
     "end_time": "2024-03-30T17:23:05.088673Z",
     "start_time": "2024-03-30T17:23:05.085798Z"
    }
   },
   "outputs": [
    {
     "data": {
      "text/plain": "         sessionId  timestamp      x      y       z   ppgValue   hr  hrIbi  \\\n0                1          8  653.0  195.0  4324.0  1917829.0  NaN    NaN   \n1                1         50  659.0  198.0  4096.0  1917495.0  NaN    NaN   \n2                1         89  645.0  149.0  4054.0  1917365.0  NaN    NaN   \n3                1        128  752.0  213.0  4090.0  1918146.0  NaN    NaN   \n4                1        169  652.0  232.0  4088.0  1919319.0  NaN    NaN   \n...            ...        ...    ...    ...     ...        ...  ...    ...   \n8824673         48    4225425 -879.0  -52.0  3786.5  3355035.5  0.0    0.0   \n8824674         48    4225455 -808.0   42.0  4038.0  3349663.0  NaN    NaN   \n8824675         48    4225495 -792.0  -89.0  3885.0  3404833.0  NaN    NaN   \n8824676         48    4225535 -806.0  -78.0  4130.0  3316474.0  NaN    NaN   \n8824677         48    4225576 -823.0 -124.0  3964.0  3314477.0  NaN    NaN   \n\n         hrStatus  ibiStatus  notification  engagement affect context  \n0             NaN        NaN           NaN         NaN    NaN     NaN  \n1             NaN        NaN           NaN         NaN    NaN     NaN  \n2             NaN        NaN           NaN         NaN    NaN     NaN  \n3             NaN        NaN           NaN         NaN    NaN     NaN  \n4             NaN        NaN           NaN         NaN    NaN     NaN  \n...           ...        ...           ...         ...    ...     ...  \n8824673     -10.0        0.0           NaN         NaN    NaN     NaN  \n8824674       NaN        NaN           NaN         NaN    NaN     NaN  \n8824675       NaN        NaN           NaN         NaN    NaN     NaN  \n8824676       NaN        NaN           NaN         NaN    NaN     NaN  \n8824677       NaN        NaN           NaN         NaN    NaN     NaN  \n\n[8824678 rows x 14 columns]",
      "text/html": "<div>\n<style scoped>\n    .dataframe tbody tr th:only-of-type {\n        vertical-align: middle;\n    }\n\n    .dataframe tbody tr th {\n        vertical-align: top;\n    }\n\n    .dataframe thead th {\n        text-align: right;\n    }\n</style>\n<table border=\"1\" class=\"dataframe\">\n  <thead>\n    <tr style=\"text-align: right;\">\n      <th></th>\n      <th>sessionId</th>\n      <th>timestamp</th>\n      <th>x</th>\n      <th>y</th>\n      <th>z</th>\n      <th>ppgValue</th>\n      <th>hr</th>\n      <th>hrIbi</th>\n      <th>hrStatus</th>\n      <th>ibiStatus</th>\n      <th>notification</th>\n      <th>engagement</th>\n      <th>affect</th>\n      <th>context</th>\n    </tr>\n  </thead>\n  <tbody>\n    <tr>\n      <th>0</th>\n      <td>1</td>\n      <td>8</td>\n      <td>653.0</td>\n      <td>195.0</td>\n      <td>4324.0</td>\n      <td>1917829.0</td>\n      <td>NaN</td>\n      <td>NaN</td>\n      <td>NaN</td>\n      <td>NaN</td>\n      <td>NaN</td>\n      <td>NaN</td>\n      <td>NaN</td>\n      <td>NaN</td>\n    </tr>\n    <tr>\n      <th>1</th>\n      <td>1</td>\n      <td>50</td>\n      <td>659.0</td>\n      <td>198.0</td>\n      <td>4096.0</td>\n      <td>1917495.0</td>\n      <td>NaN</td>\n      <td>NaN</td>\n      <td>NaN</td>\n      <td>NaN</td>\n      <td>NaN</td>\n      <td>NaN</td>\n      <td>NaN</td>\n      <td>NaN</td>\n    </tr>\n    <tr>\n      <th>2</th>\n      <td>1</td>\n      <td>89</td>\n      <td>645.0</td>\n      <td>149.0</td>\n      <td>4054.0</td>\n      <td>1917365.0</td>\n      <td>NaN</td>\n      <td>NaN</td>\n      <td>NaN</td>\n      <td>NaN</td>\n      <td>NaN</td>\n      <td>NaN</td>\n      <td>NaN</td>\n      <td>NaN</td>\n    </tr>\n    <tr>\n      <th>3</th>\n      <td>1</td>\n      <td>128</td>\n      <td>752.0</td>\n      <td>213.0</td>\n      <td>4090.0</td>\n      <td>1918146.0</td>\n      <td>NaN</td>\n      <td>NaN</td>\n      <td>NaN</td>\n      <td>NaN</td>\n      <td>NaN</td>\n      <td>NaN</td>\n      <td>NaN</td>\n      <td>NaN</td>\n    </tr>\n    <tr>\n      <th>4</th>\n      <td>1</td>\n      <td>169</td>\n      <td>652.0</td>\n      <td>232.0</td>\n      <td>4088.0</td>\n      <td>1919319.0</td>\n      <td>NaN</td>\n      <td>NaN</td>\n      <td>NaN</td>\n      <td>NaN</td>\n      <td>NaN</td>\n      <td>NaN</td>\n      <td>NaN</td>\n      <td>NaN</td>\n    </tr>\n    <tr>\n      <th>...</th>\n      <td>...</td>\n      <td>...</td>\n      <td>...</td>\n      <td>...</td>\n      <td>...</td>\n      <td>...</td>\n      <td>...</td>\n      <td>...</td>\n      <td>...</td>\n      <td>...</td>\n      <td>...</td>\n      <td>...</td>\n      <td>...</td>\n      <td>...</td>\n    </tr>\n    <tr>\n      <th>8824673</th>\n      <td>48</td>\n      <td>4225425</td>\n      <td>-879.0</td>\n      <td>-52.0</td>\n      <td>3786.5</td>\n      <td>3355035.5</td>\n      <td>0.0</td>\n      <td>0.0</td>\n      <td>-10.0</td>\n      <td>0.0</td>\n      <td>NaN</td>\n      <td>NaN</td>\n      <td>NaN</td>\n      <td>NaN</td>\n    </tr>\n    <tr>\n      <th>8824674</th>\n      <td>48</td>\n      <td>4225455</td>\n      <td>-808.0</td>\n      <td>42.0</td>\n      <td>4038.0</td>\n      <td>3349663.0</td>\n      <td>NaN</td>\n      <td>NaN</td>\n      <td>NaN</td>\n      <td>NaN</td>\n      <td>NaN</td>\n      <td>NaN</td>\n      <td>NaN</td>\n      <td>NaN</td>\n    </tr>\n    <tr>\n      <th>8824675</th>\n      <td>48</td>\n      <td>4225495</td>\n      <td>-792.0</td>\n      <td>-89.0</td>\n      <td>3885.0</td>\n      <td>3404833.0</td>\n      <td>NaN</td>\n      <td>NaN</td>\n      <td>NaN</td>\n      <td>NaN</td>\n      <td>NaN</td>\n      <td>NaN</td>\n      <td>NaN</td>\n      <td>NaN</td>\n    </tr>\n    <tr>\n      <th>8824676</th>\n      <td>48</td>\n      <td>4225535</td>\n      <td>-806.0</td>\n      <td>-78.0</td>\n      <td>4130.0</td>\n      <td>3316474.0</td>\n      <td>NaN</td>\n      <td>NaN</td>\n      <td>NaN</td>\n      <td>NaN</td>\n      <td>NaN</td>\n      <td>NaN</td>\n      <td>NaN</td>\n      <td>NaN</td>\n    </tr>\n    <tr>\n      <th>8824677</th>\n      <td>48</td>\n      <td>4225576</td>\n      <td>-823.0</td>\n      <td>-124.0</td>\n      <td>3964.0</td>\n      <td>3314477.0</td>\n      <td>NaN</td>\n      <td>NaN</td>\n      <td>NaN</td>\n      <td>NaN</td>\n      <td>NaN</td>\n      <td>NaN</td>\n      <td>NaN</td>\n      <td>NaN</td>\n    </tr>\n  </tbody>\n</table>\n<p>8824678 rows × 14 columns</p>\n</div>"
     },
     "execution_count": 113,
     "metadata": {},
     "output_type": "execute_result"
    }
   ],
   "source": [
    "df_student"
   ]
  },
  {
   "cell_type": "code",
   "execution_count": 114,
   "metadata": {
    "ExecuteTime": {
     "end_time": "2024-03-30T17:23:06.778697Z",
     "start_time": "2024-03-30T17:23:05.090Z"
    }
   },
   "outputs": [
    {
     "name": "stdout",
     "output_type": "stream",
     "text": [
      "sessionId             0\n",
      "timestamp             0\n",
      "x                     0\n",
      "y                     0\n",
      "z                     0\n",
      "ppgValue              0\n",
      "hr              8487003\n",
      "hrIbi           8487003\n",
      "hrStatus        8487003\n",
      "ibiStatus       8487003\n",
      "notification    8824306\n",
      "engagement      8824306\n",
      "affect          8824438\n",
      "context         8824445\n",
      "dtype: int64\n",
      "(8824678, 14)\n"
     ]
    }
   ],
   "source": [
    "print(df_student.isnull().sum())\n",
    "print(df_student.shape)"
   ]
  },
  {
   "cell_type": "code",
   "execution_count": 115,
   "metadata": {
    "ExecuteTime": {
     "end_time": "2024-03-30T17:23:06.781802Z",
     "start_time": "2024-03-30T17:23:06.778282Z"
    }
   },
   "outputs": [],
   "source": [
    "# 使用布尔索引过滤出 hrStatus 列小于零的行，并删除这些行\n",
    "# filtered_df = df_student[df_student['hrStatus'] >= 0]\n",
    "# print(filtered_df.isnull().sum())\n",
    "# 显示过滤后的 DataFrame\n",
    "#print(filtered_df)\n",
    "# filtered_df.shape"
   ]
  },
  {
   "cell_type": "code",
   "execution_count": 116,
   "metadata": {
    "ExecuteTime": {
     "end_time": "2024-03-30T17:23:06.785187Z",
     "start_time": "2024-03-30T17:23:06.782718Z"
    }
   },
   "outputs": [],
   "source": [
    "# from sklearn.model_selection import train_test_split\n",
    "# from sklearn.linear_model import LinearRegression\n",
    "# from sklearn.metrics import mean_squared_error\n",
    "#\n",
    "# # 提取特征和目标变量\n",
    "# X = filtered_df[['ppgValue']]\n",
    "# y = filtered_df['hr']\n",
    "#\n",
    "# # 将数据划分为训练集和测试集\n",
    "# X_train, X_test, y_train, y_test = train_test_split(X, y, test_size=0.2, random_state=42)\n",
    "#\n",
    "# # 训练线性回归模型\n",
    "# model = LinearRegression()\n",
    "# model.fit(X_train, y_train)\n",
    "#\n",
    "# # 在测试集上进行预测\n",
    "# y_pred = model.predict(X_test)\n",
    "#\n",
    "# # 计算均方根误差（RMSE）\n",
    "# rmse = mean_squared_error(y_test, y_pred, squared=False)\n",
    "# print(\"RMSE:\", rmse)\n",
    "#\n",
    "# # 输出模型参数\n",
    "# print(\"模型系数:\", model.coef_)\n",
    "# print(\"模型截距:\", model.intercept_)\n"
   ]
  },
  {
   "cell_type": "code",
   "execution_count": 117,
   "metadata": {
    "ExecuteTime": {
     "end_time": "2024-03-30T17:23:06.790698Z",
     "start_time": "2024-03-30T17:23:06.788372Z"
    }
   },
   "outputs": [],
   "source": [
    "# import matplotlib.pyplot as plt\n",
    "#\n",
    "# # 绘制实际值和预测值的散点图\n",
    "# plt.scatter(y_test, y_pred, color='blue', label='Actual vs Predicted')\n",
    "#\n",
    "# # 添加标签和标题\n",
    "# plt.xlabel('Actual HR')\n",
    "# plt.ylabel('Predicted HR')\n",
    "# plt.title('Actual vs Predicted HR')\n",
    "#\n",
    "# # 绘制对角线\n",
    "# plt.plot([min(y_test), max(y_test)], [min(y_test), max(y_test)], color='red', linestyle='--', label='Perfect Prediction')\n",
    "#\n",
    "# # 添加图例\n",
    "# plt.legend()\n",
    "#\n",
    "# # 显示图表\n",
    "# plt.show()\n"
   ]
  },
  {
   "cell_type": "code",
   "execution_count": 118,
   "metadata": {
    "ExecuteTime": {
     "end_time": "2024-03-30T17:23:06.793519Z",
     "start_time": "2024-03-30T17:23:06.791517Z"
    }
   },
   "outputs": [],
   "source": [
    "# import matplotlib.pyplot as plt\n",
    "#\n",
    "# # 绘制原始数据的关系图\n",
    "# plt.figure(figsize=(10, 6))\n",
    "# plt.scatter(filtered_df['ppgValue'], filtered_df['hr'], color='blue', alpha=0.5)\n",
    "# plt.title('Relationship between PPG and HR')\n",
    "# plt.xlabel('PPG Value')\n",
    "# plt.ylabel('Heart Rate (HR)')\n",
    "# plt.grid(True)\n",
    "# plt.show()\n"
   ]
  },
  {
   "cell_type": "code",
   "execution_count": 119,
   "metadata": {
    "ExecuteTime": {
     "end_time": "2024-03-30T17:23:06.796374Z",
     "start_time": "2024-03-30T17:23:06.794612Z"
    }
   },
   "outputs": [],
   "source": [
    "# import matplotlib.pyplot as plt\n",
    "#\n",
    "# # 获取不同 hrStatus 的唯一值\n",
    "# hr_statuses = filtered_df['hrStatus'].unique()\n",
    "#\n",
    "# # 创建子图\n",
    "# fig, ax = plt.subplots(figsize=(10, 6))\n",
    "#\n",
    "# # 遍历不同 hrStatus，并绘制对应的散点图\n",
    "# for status in hr_statuses:\n",
    "#     subset_df = filtered_df[filtered_df['hrStatus'] == status]\n",
    "#     ax.scatter(subset_df['ppgValue'], subset_df['hr'], label=f'hrStatus {status}')\n",
    "#\n",
    "# # 添加标题和标签\n",
    "# ax.set_title('Relationship between HR Status and PPG')\n",
    "# ax.set_xlabel('PPG Value')\n",
    "# ax.set_ylabel('Heart Rate (HR)')\n",
    "# ax.legend()\n",
    "# ax.grid(True)\n",
    "#\n",
    "# # 显示图表\n",
    "# plt.show()\n"
   ]
  },
  {
   "cell_type": "code",
   "execution_count": 120,
   "metadata": {
    "ExecuteTime": {
     "end_time": "2024-03-30T17:23:06.798889Z",
     "start_time": "2024-03-30T17:23:06.796826Z"
    }
   },
   "outputs": [],
   "source": [
    "# 将列名从 \"id\" 更改为 \"sessionId\"\n",
    "# df_session_info.rename(columns={'id': 'sessionId'}, inplace=True)\n"
   ]
  },
  {
   "cell_type": "code",
   "execution_count": 121,
   "metadata": {
    "ExecuteTime": {
     "end_time": "2024-03-30T17:23:06.818565Z",
     "start_time": "2024-03-30T17:23:06.800308Z"
    }
   },
   "outputs": [],
   "source": [
    "# import pandas as pd\n",
    "# import matplotlib.pyplot as plt\n",
    "#\n",
    "# # 合并两个 DataFrame，假设使用 sessionId 作为键进行合并\n",
    "# # merged_df = pd.merge(filtered_df, df_session_info, on='sessionId')\n",
    "#\n",
    "# # 根据性别分组\n",
    "# # grouped_gender = merged_df.groupby('gender')\n",
    "#\n",
    "# # 创建子图\n",
    "# fig, ax = plt.subplots(figsize=(10, 6))\n",
    "#\n",
    "# # 遍历不同性别，并绘制对应的散点图\n",
    "# # for gender, data in grouped_gender:\n",
    "# #     ax.scatter(data['ppgValue'], data['hr'], label=gender, alpha=0.5)\n",
    "#\n",
    "# # 添加标题和标签\n",
    "# ax.set_title('Relationship between PPG and HR by Gender')\n",
    "# ax.set_xlabel('PPG Value')\n",
    "# ax.set_ylabel('Heart Rate (HR)')\n",
    "# ax.legend()\n",
    "# ax.grid(True)\n",
    "#\n",
    "# # 显示图表\n",
    "# plt.show()\n"
   ]
  },
  {
   "cell_type": "code",
   "execution_count": 122,
   "metadata": {
    "ExecuteTime": {
     "end_time": "2024-03-30T17:23:06.823682Z",
     "start_time": "2024-03-30T17:23:06.803881Z"
    }
   },
   "outputs": [],
   "source": [
    "\n",
    "# grouped_fairNumber = merged_df.groupby('fairNumber')\n",
    "\n",
    "# 创建子图\n",
    "# fig, axs = plt.subplots(2, 2, figsize=(12, 8))\n",
    "#\n",
    "# 遍历不同的 fairNumber，并绘制对应的散点图\n",
    "# for fair_number, ax in zip(grouped_fairNumber.groups.keys(), axs.flatten()):\n",
    "#     data = grouped_fairNumber.get_group(fair_number)\n",
    "#     ax.scatter(data['ppgValue'], data['hr'], label=f'Fair Number {fair_number}', alpha=0.5)\n",
    "#     ax.set_title(f'Fair Number {fair_number}')\n",
    "#     ax.set_xlabel('PPG Value')\n",
    "#     ax.set_ylabel('Heart Rate (HR)')\n",
    "#     ax.legend()\n",
    "#     ax.grid(True)\n",
    "#\n",
    "# 调整子图布局\n",
    "# plt.tight_layout()\n",
    "#\n",
    "# 显示图表\n",
    "plt.show()\n"
   ]
  },
  {
   "cell_type": "code",
   "execution_count": 123,
   "metadata": {
    "ExecuteTime": {
     "end_time": "2024-03-30T17:23:06.824038Z",
     "start_time": "2024-03-30T17:23:06.807628Z"
    }
   },
   "outputs": [],
   "source": [
    "# import matplotlib.pyplot as plt\n",
    "#\n",
    "# # 根据 fairNumber 和 gender 分组\n",
    "# # grouped_mix = merged_df.groupby(['fairNumber', 'gender'])\n",
    "#\n",
    "# # 创建子图\n",
    "# fig, axs = plt.subplots(2, 2, figsize=(12, 8))\n",
    "# # axs = axs.flatten()\n",
    "#\n",
    "# # 定义颜色映射\n",
    "# colors = {'male': 'blue', 'female': 'red'}\n",
    "#\n",
    "# # 遍历不同的 fairNumber，并绘制对应的散点图\n",
    "# for fair_number, ax in zip(range(1, 5), axs):\n",
    "#     for (fair, gender), data in grouped_mix:\n",
    "#         if fair == fair_number:\n",
    "#             ax.scatter(data['ppgValue'], data['hr'], label=f'Fair Number {fair}, Gender {gender}', color=colors[gender], alpha=0.5)\n",
    "#             ax.set_title(f'Fair Number {fair_number}')\n",
    "#             ax.set_xlabel('PPG Value')\n",
    "#             ax.set_ylabel('Heart Rate (HR)')\n",
    "#             ax.legend()\n",
    "#             ax.grid(True)\n",
    "#\n",
    "# # 调整子图布局\n",
    "# plt.tight_layout()\n",
    "#\n",
    "# # 显示图表\n",
    "# plt.show()\n"
   ]
  },
  {
   "cell_type": "code",
   "execution_count": 128,
   "outputs": [
    {
     "name": "stdout",
     "output_type": "stream",
     "text": [
      "         sessionId  timestamp      x      y       z   ppgValue    hr  hrIbi  \\\n",
      "0                1          8  653.0  195.0  4324.0  1917829.0  90.0    NaN   \n",
      "1                1         50  659.0  198.0  4096.0  1917495.0  90.0    NaN   \n",
      "2                1         89  645.0  149.0  4054.0  1917365.0  90.0    NaN   \n",
      "3                1        128  752.0  213.0  4090.0  1918146.0  90.0    NaN   \n",
      "4                1        169  652.0  232.0  4088.0  1919319.0  90.0    NaN   \n",
      "...            ...        ...    ...    ...     ...        ...   ...    ...   \n",
      "8824669         48    4225294 -748.0 -172.0  3977.0  3412832.0   0.0    NaN   \n",
      "8824670         48    4225334 -815.0 -158.0  3986.0  3399123.0   0.0    NaN   \n",
      "8824671         48    4225375 -778.0 -129.0  4007.0  3379869.0   0.0    NaN   \n",
      "8824672         48    4225415 -950.0 -146.0  3535.0  3360408.0   0.0    NaN   \n",
      "8824673         48    4225425 -879.0  -52.0  3786.5  3355035.5   0.0    0.0   \n",
      "\n",
      "         hrStatus  ibiStatus  notification  engagement affect context  \n",
      "0             NaN        NaN           NaN         NaN    NaN     NaN  \n",
      "1             NaN        NaN           NaN         NaN    NaN     NaN  \n",
      "2             NaN        NaN           NaN         NaN    NaN     NaN  \n",
      "3             NaN        NaN           NaN         NaN    NaN     NaN  \n",
      "4             NaN        NaN           NaN         NaN    NaN     NaN  \n",
      "...           ...        ...           ...         ...    ...     ...  \n",
      "8824669       NaN        NaN           NaN         NaN    NaN     NaN  \n",
      "8824670       NaN        NaN           NaN         NaN    NaN     NaN  \n",
      "8824671       NaN        NaN           NaN         NaN    NaN     NaN  \n",
      "8824672       NaN        NaN           NaN         NaN    NaN     NaN  \n",
      "8824673     -10.0        0.0           NaN         NaN    NaN     NaN  \n",
      "\n",
      "[8824674 rows x 14 columns]\n"
     ]
    },
    {
     "ename": "ValueError",
     "evalue": "could not convert string to float: 'RELAXED'",
     "output_type": "error",
     "traceback": [
      "\u001B[0;31m---------------------------------------------------------------------------\u001B[0m",
      "\u001B[0;31mValueError\u001B[0m                                Traceback (most recent call last)",
      "Cell \u001B[0;32mIn[128], line 24\u001B[0m\n\u001B[1;32m     22\u001B[0m \u001B[38;5;66;03m# 创建决策树模型\u001B[39;00m\n\u001B[1;32m     23\u001B[0m model \u001B[38;5;241m=\u001B[39m DecisionTreeRegressor(random_state\u001B[38;5;241m=\u001B[39m\u001B[38;5;241m42\u001B[39m)\n\u001B[0;32m---> 24\u001B[0m \u001B[43mmodel\u001B[49m\u001B[38;5;241;43m.\u001B[39;49m\u001B[43mfit\u001B[49m\u001B[43m(\u001B[49m\u001B[43mX\u001B[49m\u001B[43m,\u001B[49m\u001B[43m \u001B[49m\u001B[43my\u001B[49m\u001B[43m)\u001B[49m\n\u001B[1;32m     26\u001B[0m \u001B[38;5;66;03m# 获取特征重要性\u001B[39;00m\n\u001B[1;32m     27\u001B[0m feature_importances \u001B[38;5;241m=\u001B[39m model\u001B[38;5;241m.\u001B[39mfeature_importances_\n",
      "File \u001B[0;32m~/anaconda3/lib/python3.10/site-packages/sklearn/tree/_classes.py:1247\u001B[0m, in \u001B[0;36mDecisionTreeRegressor.fit\u001B[0;34m(self, X, y, sample_weight, check_input)\u001B[0m\n\u001B[1;32m   1218\u001B[0m \u001B[38;5;28;01mdef\u001B[39;00m \u001B[38;5;21mfit\u001B[39m(\u001B[38;5;28mself\u001B[39m, X, y, sample_weight\u001B[38;5;241m=\u001B[39m\u001B[38;5;28;01mNone\u001B[39;00m, check_input\u001B[38;5;241m=\u001B[39m\u001B[38;5;28;01mTrue\u001B[39;00m):\n\u001B[1;32m   1219\u001B[0m     \u001B[38;5;124;03m\"\"\"Build a decision tree regressor from the training set (X, y).\u001B[39;00m\n\u001B[1;32m   1220\u001B[0m \n\u001B[1;32m   1221\u001B[0m \u001B[38;5;124;03m    Parameters\u001B[39;00m\n\u001B[0;32m   (...)\u001B[0m\n\u001B[1;32m   1244\u001B[0m \u001B[38;5;124;03m        Fitted estimator.\u001B[39;00m\n\u001B[1;32m   1245\u001B[0m \u001B[38;5;124;03m    \"\"\"\u001B[39;00m\n\u001B[0;32m-> 1247\u001B[0m     \u001B[38;5;28;43msuper\u001B[39;49m\u001B[43m(\u001B[49m\u001B[43m)\u001B[49m\u001B[38;5;241;43m.\u001B[39;49m\u001B[43mfit\u001B[49m\u001B[43m(\u001B[49m\n\u001B[1;32m   1248\u001B[0m \u001B[43m        \u001B[49m\u001B[43mX\u001B[49m\u001B[43m,\u001B[49m\n\u001B[1;32m   1249\u001B[0m \u001B[43m        \u001B[49m\u001B[43my\u001B[49m\u001B[43m,\u001B[49m\n\u001B[1;32m   1250\u001B[0m \u001B[43m        \u001B[49m\u001B[43msample_weight\u001B[49m\u001B[38;5;241;43m=\u001B[39;49m\u001B[43msample_weight\u001B[49m\u001B[43m,\u001B[49m\n\u001B[1;32m   1251\u001B[0m \u001B[43m        \u001B[49m\u001B[43mcheck_input\u001B[49m\u001B[38;5;241;43m=\u001B[39;49m\u001B[43mcheck_input\u001B[49m\u001B[43m,\u001B[49m\n\u001B[1;32m   1252\u001B[0m \u001B[43m    \u001B[49m\u001B[43m)\u001B[49m\n\u001B[1;32m   1253\u001B[0m     \u001B[38;5;28;01mreturn\u001B[39;00m \u001B[38;5;28mself\u001B[39m\n",
      "File \u001B[0;32m~/anaconda3/lib/python3.10/site-packages/sklearn/tree/_classes.py:248\u001B[0m, in \u001B[0;36mBaseDecisionTree.fit\u001B[0;34m(self, X, y, sample_weight, check_input)\u001B[0m\n\u001B[1;32m    245\u001B[0m     \u001B[38;5;28mself\u001B[39m\u001B[38;5;241m.\u001B[39mn_classes_ \u001B[38;5;241m=\u001B[39m np\u001B[38;5;241m.\u001B[39marray(\u001B[38;5;28mself\u001B[39m\u001B[38;5;241m.\u001B[39mn_classes_, dtype\u001B[38;5;241m=\u001B[39mnp\u001B[38;5;241m.\u001B[39mintp)\n\u001B[1;32m    247\u001B[0m \u001B[38;5;28;01mif\u001B[39;00m \u001B[38;5;28mgetattr\u001B[39m(y, \u001B[38;5;124m\"\u001B[39m\u001B[38;5;124mdtype\u001B[39m\u001B[38;5;124m\"\u001B[39m, \u001B[38;5;28;01mNone\u001B[39;00m) \u001B[38;5;241m!=\u001B[39m DOUBLE \u001B[38;5;129;01mor\u001B[39;00m \u001B[38;5;129;01mnot\u001B[39;00m y\u001B[38;5;241m.\u001B[39mflags\u001B[38;5;241m.\u001B[39mcontiguous:\n\u001B[0;32m--> 248\u001B[0m     y \u001B[38;5;241m=\u001B[39m \u001B[43mnp\u001B[49m\u001B[38;5;241;43m.\u001B[39;49m\u001B[43mascontiguousarray\u001B[49m\u001B[43m(\u001B[49m\u001B[43my\u001B[49m\u001B[43m,\u001B[49m\u001B[43m \u001B[49m\u001B[43mdtype\u001B[49m\u001B[38;5;241;43m=\u001B[39;49m\u001B[43mDOUBLE\u001B[49m\u001B[43m)\u001B[49m\n\u001B[1;32m    250\u001B[0m max_depth \u001B[38;5;241m=\u001B[39m np\u001B[38;5;241m.\u001B[39miinfo(np\u001B[38;5;241m.\u001B[39mint32)\u001B[38;5;241m.\u001B[39mmax \u001B[38;5;28;01mif\u001B[39;00m \u001B[38;5;28mself\u001B[39m\u001B[38;5;241m.\u001B[39mmax_depth \u001B[38;5;129;01mis\u001B[39;00m \u001B[38;5;28;01mNone\u001B[39;00m \u001B[38;5;28;01melse\u001B[39;00m \u001B[38;5;28mself\u001B[39m\u001B[38;5;241m.\u001B[39mmax_depth\n\u001B[1;32m    252\u001B[0m \u001B[38;5;28;01mif\u001B[39;00m \u001B[38;5;28misinstance\u001B[39m(\u001B[38;5;28mself\u001B[39m\u001B[38;5;241m.\u001B[39mmin_samples_leaf, numbers\u001B[38;5;241m.\u001B[39mIntegral):\n",
      "\u001B[0;31mValueError\u001B[0m: could not convert string to float: 'RELAXED'"
     ]
    }
   ],
   "source": [
    "from sklearn.tree import DecisionTreeRegressor\n",
    "import numpy as np\n",
    "df_student['hr'].fillna(method='bfill', inplace=True)\n",
    "data_clean = df_student\n",
    "data_clean1 = data_clean.dropna(subset=['hr'])\n",
    "print(data_clean1)\n",
    "data_clean2 = data_clean.dropna(subset=['affect'])\n",
    "# df = pd.read_csv('/Users/algdc/Desktop/DDA 3020/task/modified_data.csv')\n",
    "# data_clean = df_student.dropna(subset=['affect'])\n",
    "#\n",
    "# data_clean['hr'].fillna(method='bfill', inplace=True)\n",
    "# print(data_clean)\n",
    "# data_clean.dropna(subset=['hr'])\n",
    "# print(data_clean)\n",
    "# 选择用于训练的特征列\n",
    "features = ['x', 'y', 'z', 'ppgValue', 'hr']\n",
    "\n",
    "# 准备训练数据\n",
    "X = data_clean2[features]\n",
    "y = data_clean2['affect']\n",
    "\n",
    "# 创建决策树模型\n",
    "model = DecisionTreeRegressor(random_state=42)\n",
    "model.fit(X, y)\n",
    "\n",
    "# 获取特征重要性\n",
    "feature_importances = model.feature_importances_\n",
    "\n",
    "# 将特征名和其重要性组合成一个字典\n",
    "feature_importance_dict = dict(zip(features, feature_importances))\n",
    "\n",
    "# 将字典按照值（重要性）从大到小排序\n",
    "sorted_feature_importance = dict(sorted(feature_importance_dict.items(), key=lambda item: item[1], reverse=True))\n",
    "\n",
    "# 输出排序后的特征重要性\n",
    "for feature, importance in sorted_feature_importance.items():\n",
    "    print(f\"{feature}: {importance}\")\n",
    "\n",
    "# 绘制柱状图\n",
    "plt.figure(figsize=(10, 5))\n",
    "plt.bar(sorted_feature_importance.keys(), sorted_feature_importance.values())\n",
    "plt.title('Feature Importance for Affect Prediction')\n",
    "plt.xlabel('Features')\n",
    "plt.ylabel('Importance')\n",
    "plt.xticks(rotation=45, ha=\"right\")\n",
    "plt.tight_layout()\n",
    "# plt.savefig('feature_importance_bar_chart.png')\n",
    "plt.show()\n"
   ],
   "metadata": {
    "collapsed": false,
    "ExecuteTime": {
     "end_time": "2024-03-30T17:44:45.625221Z",
     "start_time": "2024-03-30T17:44:43.809080Z"
    }
   }
  },
  {
   "cell_type": "code",
   "execution_count": null,
   "outputs": [],
   "source": [],
   "metadata": {
    "collapsed": false,
    "ExecuteTime": {
     "start_time": "2024-03-30T17:23:09.693899Z"
    }
   }
  },
  {
   "cell_type": "code",
   "execution_count": null,
   "outputs": [],
   "source": [],
   "metadata": {
    "collapsed": false,
    "ExecuteTime": {
     "start_time": "2024-03-30T17:23:09.695205Z"
    }
   }
  }
 ],
 "metadata": {
  "kernelspec": {
   "display_name": "base",
   "language": "python",
   "name": "python3"
  },
  "language_info": {
   "codemirror_mode": {
    "name": "ipython",
    "version": 3
   },
   "file_extension": ".py",
   "mimetype": "text/x-python",
   "name": "python",
   "nbconvert_exporter": "python",
   "pygments_lexer": "ipython3",
   "version": "3.9.13"
  }
 },
 "nbformat": 4,
 "nbformat_minor": 2
}
